{
 "cells": [
  {
   "cell_type": "markdown",
   "id": "posted-twist",
   "metadata": {},
   "source": [
    "# Question 1:  Pose Graph Optimization for 1D SLAM"
   ]
  },
  {
   "cell_type": "markdown",
   "id": "chemical-andorra",
   "metadata": {},
   "source": [
    "A solved example for 1D SLAM which optimizes for pose variables using weighted least squares method (Gauss Newton) has been explained in the class. You can view it at `examples/1D-SLAM.ipynb`. Your first task is to code this from scratch.\n",
    "\n",
    "For this section, you have to calculate Jacobian analytically yourself and use it. However, you can check how correct it is using `jax`'s `jacobian`. Its usage is explained in the supplementary notebook (`examples/`)."
   ]
  },
  {
   "cell_type": "markdown",
   "id": "fleet-digest",
   "metadata": {},
   "source": [
    "## How to get started?\n",
    "\n",
    "1. Go through the example and understand the optimization procedure.\n",
    "2. Generate the data as in the example.\n",
    "3. Write the derivatives of the function with respect to the constraints\n",
    "4. Create the final jacobian and write the update steps using Gauss Newton\n",
    "\n",
    "This tiny example will help make sense of the next question, as it's largely just an extension of this."
   ]
  },
  {
   "cell_type": "markdown",
   "id": "tough-brighton",
   "metadata": {},
   "source": [
    "Finally, plot the loop closure constraint, poses, and error at every iteration as well. Since this is a one dimensional example, you can just assume x = y."
   ]
  },
  {
   "cell_type": "code",
   "execution_count": 1,
   "id": "multiple-stomach",
   "metadata": {},
   "outputs": [],
   "source": [
    "import os\n",
    "import math\n",
    "import numpy as np\n",
    "import matplotlib.pyplot as plt"
   ]
  },
  {
   "cell_type": "code",
   "execution_count": 2,
   "id": "focal-identification",
   "metadata": {},
   "outputs": [],
   "source": [
    "# Code!\n",
    "def get_observations( X , loop_closure_index ):\n",
    "    pre = []\n",
    "    post =[]\n",
    "    observations = []\n",
    "    for lc in loop_closure_index:\n",
    "        pre.append( lc[0] )\n",
    "        post.append( lc[1] )    \n",
    "    \n",
    "    for i in range( 1, len(X) + len(pre) ):\n",
    "        if (i < len(X)):\n",
    "            observations.append(X[i])\n",
    "        if( i>=len(X) ):\n",
    "            observations.append( X[ post[i - len(X) ] ] )\n",
    "    \n",
    "    return observations\n",
    "\n",
    "def get_predictions( X,u ,loop_closure_index ):\n",
    "    pre = []\n",
    "    post =[] \n",
    "    predictions = []\n",
    "    for lc in loop_closure_index:\n",
    "        pre.append( lc[0] )\n",
    "        post.append( lc[1] )    \n",
    "    curr_state = 0\n",
    "    \n",
    "    for i in range(  len(u) ):\n",
    "        if( curr_state < len(X)-1 ):\n",
    "            p =X[i] + u[i]\n",
    "            predictions.append(p)\n",
    "            curr_state +=1\n",
    "        else:   \n",
    "            p = X[ pre[ i - curr_state ]  ] + u[i]\n",
    "            predictions.append(p)\n",
    "            \n",
    "    return predictions\n",
    "\n",
    "def determine_error( predictions, observations  ):\n",
    "    predictions = np.asarray(predictions)\n",
    "    observations = np.asarray(observations)\n",
    "    error = predictions -observations\n",
    "    error  =np.append( error, 0)\n",
    "    \n",
    "    return error\n",
    "\n",
    "def get_jacobian():\n",
    "    J = np.array([ [ 1 ,-1 , 0, 0 , 0] ,\n",
    "                 [ 0 ,1 ,-1, 0 ,0 ] ,\n",
    "                 [0 ,0 , 1 , -1 , 0] , \n",
    "                 [0 ,0 ,0 ,1,-1 ] , \n",
    "                 [1 ,0,0,0,-1] ,\n",
    "                 [1,0,0,0,0 ] ])\n",
    "    \n",
    "    return J"
   ]
  },
  {
   "cell_type": "code",
   "execution_count": 3,
   "id": "c9076362",
   "metadata": {},
   "outputs": [
    {
     "name": "stdout",
     "output_type": "stream",
     "text": [
      "[1.1, 2.1, 3.2, 0.5, 0.5]\n",
      "[1.1, 2.1, 3.2, 0.5, 0.0]\n"
     ]
    }
   ],
   "source": [
    "X = np.array( [ 0 ,1.1 , 2.1 ,3.2 ,0.5 ] )\n",
    "u = np.array( [ 1.1 , 1 ,1.1 , -2.7 , 0 ] )\n",
    "loop_closure_index = [ (0,4) ]\n",
    "observations  = get_observations( X , loop_closure_index )\n",
    "predictions = get_predictions( X,u ,loop_closure_index )\n",
    "\n",
    "print( observations)\n",
    "print(predictions )"
   ]
  },
  {
   "cell_type": "code",
   "execution_count": 4,
   "id": "8c0ca36f",
   "metadata": {},
   "outputs": [
    {
     "name": "stdout",
     "output_type": "stream",
     "text": [
      "[6.93514181e-18 1.00000010e+00 1.90000019e+00 2.90000029e+00\n",
      " 1.00000381e-01]\n"
     ]
    },
    {
     "data": {
      "image/png": "[encoded data removed]",
      "text/plain": [
       "<Figure size 432x288 with 1 Axes>"
      ]
     },
     "metadata": {
      "needs_background": "light"
     },
     "output_type": "display_data"
    }
   ],
   "source": [
    "iterations = 20\n",
    "error_data = []\n",
    "for j in range(iterations):\n",
    "    error = determine_error( predictions, observations  )\n",
    "    error_data.append( np.linalg.norm( error ) )\n",
    "    J = get_jacobian()\n",
    "    dim = np.shape(error)[0]\n",
    "    omega = np.zeros( ( dim, dim )  )\n",
    "    omega[0][0] = omega[1][1] = omega[2][2] = omega[3][3] = omega[4][4] = 0.01\n",
    "    omega[5][5] = 0.001 \n",
    "    omega = np.linalg.inv(omega)\n",
    "    \n",
    "    H = J.T@omega@J\n",
    "    b = J.T@omega.T@error\n",
    "    \n",
    "    del_x = np.linalg.inv(H)@(-b)\n",
    "    X += 0.5*del_x \n",
    "    observations  = get_observations( X , loop_closure_index )\n",
    "    predictions = get_predictions( X,u ,loop_closure_index )  \n",
    "    \n",
    "print(X)\n",
    "\n",
    "plt.plot( np.arange( 0, iterations ,1 ) , error_data  )\n",
    "plt.show()"
   ]
  },
  {
   "cell_type": "code",
   "execution_count": null,
   "id": "b4c105e1",
   "metadata": {},
   "outputs": [],
   "source": []
  },
  {
   "cell_type": "code",
   "execution_count": null,
   "id": "af3f64d9",
   "metadata": {},
   "outputs": [],
   "source": []
  }
 ],
 "metadata": {
  "kernelspec": {
   "display_name": "Python 3 (ipykernel)",
   "language": "python",
   "name": "python3"
  },
  "language_info": {
   "codemirror_mode": {
    "name": "ipython",
    "version": 3
   },
   "file_extension": ".py",
   "mimetype": "text/x-python",
   "name": "python",
   "nbconvert_exporter": "python",
   "pygments_lexer": "ipython3",
   "version": "3.8.10"
  }
 },
 "nbformat": 4,
 "nbformat_minor": 5
}
