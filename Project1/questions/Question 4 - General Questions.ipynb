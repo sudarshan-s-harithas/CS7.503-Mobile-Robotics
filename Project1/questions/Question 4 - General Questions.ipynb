{
 "cells": [
  {
   "cell_type": "markdown",
   "id": "mexican-confirmation",
   "metadata": {},
   "source": [
    "# Question 4: General Theory/Application"
   ]
  },
  {
   "cell_type": "markdown",
   "id": "entitled-cleaners",
   "metadata": {},
   "source": [
    "_No need to be verbose, it's not fun for anyone_"
   ]
  },
  {
   "cell_type": "markdown",
   "id": "remarkable-hindu",
   "metadata": {},
   "source": [
    "#### 1. What part of S**L**A**M** did this project deal with? Why? What does the other part deal with and how would it generally work, given that you only have LIDAR scans, RGB video stream, and noisy pose data for a moving robot?\n",
    "\n",
    "This project deals with the Localization of the SLAM problem, the other part of SLAM involves \"Mapping\" i.e determining the positions of the landmarks within the environment. \n",
    "\n",
    "The cost function would be changed to include the position of the landmarks, given LIDAR scans we can use ICP SLAM, and given 3D-2D correspondances in a given RGB stream we can use Bundle Adjustment with the noisy pose data as initlization. \n",
    "\n",
    "\n",
    "\n",
    "#### 2. Loop closures play an important role in reducing drift, how would you go about detecting these?\n",
    "\n",
    "Loop closures is detection is detection of places that the robot has visited previously. Methods such as DBoW2 [https://ieeexplore.ieee.org/document/6202705] a bag-of-words place recognition approach can be used to detect loop cloure.  \n",
    "\n",
    "\n",
    "\n",
    "#### 3. Explain the structure of your Jacobian. Is the pose-graph fully connected? Why/Why not?\n",
    "\n",
    "Jacobian is sparse matrix, most of ellements are zero. A pose graph is not fully connected as the odometry constrains connect 2 nodes at a time whereas the landmarks (in case of full SLAM) are seen only by a few nodes and not all of them. A fully connected graph would require each node to be connected to every other node therefore the pose graph is not fully connected. \n",
    "\n",
    "\n",
    "#### 4. With what you know now, how would you describe and differentiate the SLAM frontend and backend? Why do we need to optimise our poses/map in the first place - where does the noise come from/why?\n",
    "Front end: Construction of the factor graph, collection of sensor raw data, and adding the data into the graph in the necessary format.  \n",
    "Back end: Take the constarints, optimize the state of the graph to obtain correct poses.\n",
    "\n",
    "\"The front end abstracts sensor data into models that are amenable for estimation, while the back end performs inference on the abstracted data produced by the front end.\" [ https://ieeexplore.ieee.org/stamp/stamp.jsp?tp=&arnumber=7747236]\n",
    "\n",
    "Due to the robot motion model uncertainity and sensor noise the state errors get accumulated with the time. To reduce these error and improve path we optimize our poses using constarints. \n",
    "\n",
    "The noise arises from Robot Motion model uncertainity, unknown ( or inaccurate) sensor parameters, bad calibration between sensors, environmental factors, bad encoder reading or wheel slip, data associations inaccuracies."
   ]
  },
  {
   "cell_type": "markdown",
   "id": "756b9374",
   "metadata": {},
   "source": []
  },
  {
   "cell_type": "markdown",
   "id": "2f95a99d",
   "metadata": {},
   "source": []
  },
  {
   "cell_type": "markdown",
   "id": "b173c416",
   "metadata": {},
   "source": []
  },
  {
   "cell_type": "markdown",
   "id": "430b468a",
   "metadata": {},
   "source": []
  },
  {
   "cell_type": "markdown",
   "id": "abstract-bones",
   "metadata": {},
   "source": [
    "_Your Answer_"
   ]
  }
 ],
 "metadata": {
  "kernelspec": {
   "display_name": "Python 3 (ipykernel)",
   "language": "python",
   "name": "python3"
  },
  "language_info": {
   "codemirror_mode": {
    "name": "ipython",
    "version": 3
   },
   "file_extension": ".py",
   "mimetype": "text/x-python",
   "name": "python",
   "nbconvert_exporter": "python",
   "pygments_lexer": "ipython3",
   "version": "3.8.10"
  }
 },
 "nbformat": 4,
 "nbformat_minor": 5
}
