{
 "cells": [
  {
   "cell_type": "markdown",
   "id": "mexican-confirmation",
   "metadata": {},
   "source": [
    "# Question 4: General Theory/Application"
   ]
  },
  {
   "cell_type": "markdown",
   "id": "entitled-cleaners",
   "metadata": {},
   "source": [
    "_No need to be verbose, it's not fun for anyone_"
   ]
  },
  {
   "cell_type": "markdown",
   "id": "remarkable-hindu",
   "metadata": {},
   "source": [
    "1. What part of S**L**A**M** did this project deal with? Why? What does the other part deal with and how would it generally work, given that you only have LIDAR scans, RGB video stream, and noisy pose data for a moving robot?\n",
    "\n",
    "\n",
    "2. Loop closures play an important role in reducing drift, how would you go about detecting these?\n",
    "\n",
    "\n",
    "3. Explain the structure of your Jacobian. Is the pose-graph fully connected? Why/Why not?\n",
    "\n",
    "\n",
    "4. With what you know now, how would you describe and differentiate the SLAM frontend and backend? Why do we need to optimise our poses/map in the first place - where does the noise come from/why?"
   ]
  },
  {
   "cell_type": "markdown",
   "id": "756b9374",
   "metadata": {},
   "source": [
    "Pose Graph SLAM due to its major advantage to low computtaion cost. Robot poses are represented by node of graph and edges represents Odometry constarint and Loop closre constarint. By given motion model the problem can solved using non-linear optimization. \n",
    "\n",
    "LIDAR - ICP - Control Input in form of Transformation\n",
    "RGB video stream - Loop closure\n",
    "Noisy pose data - Odometry constarint"
   ]
  },
  {
   "cell_type": "markdown",
   "id": "2f95a99d",
   "metadata": {},
   "source": [
    "#### http://ceur-ws.org/Vol-2487/sdpaper3.pdf\n",
    "\n",
    "Loop closures is detection where current pose has been explored previously.\n",
    "One of easiest way could be state estimation using GPS + IMU fusion, by which we save past and current robot poses, and detect trajectory has formed a closed loop. \n",
    "But recent year the combination of semantics and SLAM has become a research hotspot. (VINS Mono)"
   ]
  },
  {
   "cell_type": "markdown",
   "id": "b173c416",
   "metadata": {},
   "source": [
    "Jacobian is sparse matrix. Most of element is zero because \"i\" node is connected to \"j\" means very limited edges or constarint to other node.   "
   ]
  },
  {
   "cell_type": "markdown",
   "id": "430b468a",
   "metadata": {},
   "source": [
    "Front end: To make an graph\n",
    "Back end: Optimize an Graph\n",
    "\n",
    "Source of noise:-\n",
    "1. Robot Motion model uncertainity\n",
    "2. Camera or Lidar Sensor Noise\n",
    "3. Odomotery Error due to bad encoder reading or wheel slip.\n",
    "4. Lack of good Data Association in case of ICP.\n",
    "5. GPS drift or IMU noise\n",
    "\n",
    "In SLAM pose estimation and mapping happens simulatenously, so a small error in orietation can lead the robot to an wrong position and global map get erroneous.  "
   ]
  },
  {
   "cell_type": "markdown",
   "id": "abstract-bones",
   "metadata": {},
   "source": [
    "_Your Answer_"
   ]
  }
 ],
 "metadata": {
  "kernelspec": {
   "display_name": "Python 3 (ipykernel)",
   "language": "python",
   "name": "python3"
  },
  "language_info": {
   "codemirror_mode": {
    "name": "ipython",
    "version": 3
   },
   "file_extension": ".py",
   "mimetype": "text/x-python",
   "name": "python",
   "nbconvert_exporter": "python",
   "pygments_lexer": "ipython3",
   "version": "3.8.10"
  }
 },
 "nbformat": 4,
 "nbformat_minor": 5
}
