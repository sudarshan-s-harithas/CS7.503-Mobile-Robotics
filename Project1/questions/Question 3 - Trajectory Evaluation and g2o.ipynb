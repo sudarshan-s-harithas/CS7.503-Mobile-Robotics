{
 "cells": [
  {
   "cell_type": "markdown",
   "id": "exposed-little",
   "metadata": {},
   "source": [
    "# Question 3: Trajectory Evaluation and g2o"
   ]
  },
  {
   "cell_type": "markdown",
   "id": "hearing-bachelor",
   "metadata": {},
   "source": [
    "_Refer to the example notebooks for installation instructions_"
   ]
  },
  {
   "cell_type": "markdown",
   "id": "radio-atlantic",
   "metadata": {},
   "source": [
    "# Evo"
   ]
  },
  {
   "cell_type": "markdown",
   "id": "recognized-booking",
   "metadata": {},
   "source": [
    "So you've implemented 2D SLAM, great! Now, what? We need a measure of how good the trajectory is. The error/loss used earlier doesn't tell us much about how the trajectory differs from the ground truth. Here, we try to do just this - compute error metrics. Rather than computing these from scratch, we will just Evo - https://github.com/MichaelGrupp/evo/."
   ]
  },
  {
   "cell_type": "markdown",
   "id": "amino-command",
   "metadata": {},
   "source": [
    "Look at the absolute pose error (APE) and relative pose error (RPE). What do they capture and how are they calculated (descriptive answer)? How do these metrics differ in methodology? Can we determine if the error is more along the x/y axis?\n",
    "\n",
    "Answer the above questions and report errors for the obtained trajectory."
   ]
  },
  {
   "cell_type": "markdown",
   "id": "bb7bffe7",
   "metadata": {},
   "source": [
    "## EVO for 2D SLAM\n",
    "\n",
    "The results were saved as a .g2o file and was converted to .kitti format using the given code before the error estimation "
   ]
  },
  {
   "cell_type": "code",
   "execution_count": 1,
   "id": "typical-brief",
   "metadata": {},
   "outputs": [
    {
     "name": "stdout",
     "output_type": "stream",
     "text": [
      "--------------------------------------------------------------------------------\n",
      "Loaded 120 poses from: ../gt.kitti\n",
      "Loaded 120 poses from: ../optimized_pose.kitti\n",
      "--------------------------------------------------------------------------------\n",
      "Found 119 pairs with delta 1 (frames) among 120 poses using consecutive pairs.\n",
      "Compared 119 relative pose pairs, delta = 1 (frames) with consecutive pairs.\n",
      "Calculating RPE for translation part pose relation...\n",
      "--------------------------------------------------------------------------------\n",
      "RPE w.r.t. translation part (m)\n",
      "for delta = 1 (frames) using consecutive pairs\n",
      "(not aligned)\n",
      "\n",
      "       max\t1.167770\n",
      "      mean\t0.550994\n",
      "    median\t0.552567\n",
      "       min\t0.080919\n",
      "      rmse\t0.615906\n",
      "       sse\t45.141506\n",
      "       std\t0.275220\n",
      "\n",
      "--------------------------------------------------------------------------------\n",
      "Plotting results... \n",
      "\u001b[0m"
     ]
    }
   ],
   "source": [
    "# Write up with plots/images\n",
    "\n",
    "!evo_rpe kitti ../gt.kitti ../optimized_pose.kitti  -v --plot --plot_mode xy \n",
    "\n"
   ]
  },
  {
   "cell_type": "code",
   "execution_count": 6,
   "id": "e8446412",
   "metadata": {},
   "outputs": [
    {
     "name": "stdout",
     "output_type": "stream",
     "text": [
      "--------------------------------------------------------------------------------\n",
      "Loaded 120 poses from: ../gt.kitti\n",
      "Loaded 120 poses from: ../optimized_pose.kitti\n",
      "--------------------------------------------------------------------------------\n",
      "Aligning using Umeyama's method...\n",
      "Rotation of alignment:\n",
      "[[ 0.78287806 -0.62217517  0.        ]\n",
      " [ 0.62217517  0.78287806  0.        ]\n",
      " [ 0.          0.          1.        ]]\n",
      "Translation of alignment:\n",
      "[-1.22688337  4.68525645  0.        ]\n",
      "Scale correction: 1.0\n",
      "--------------------------------------------------------------------------------\n",
      "Compared 120 absolute pose pairs.\n",
      "Calculating APE for translation part pose relation...\n",
      "--------------------------------------------------------------------------------\n",
      "APE w.r.t. translation part (m)\n",
      "(with SE(3) Umeyama alignment)\n",
      "\n",
      "       max\t3.107033\n",
      "      mean\t1.478282\n",
      "    median\t1.494134\n",
      "       min\t0.116891\n",
      "      rmse\t1.605663\n",
      "       sse\t309.378547\n",
      "       std\t0.626768\n",
      "\n",
      "--------------------------------------------------------------------------------\n",
      "Plotting results... \n",
      "\u001b[0m"
     ]
    }
   ],
   "source": [
    "!evo_ape kitti ../gt.kitti ../optimized_pose.kitti  --align -v --plot --plot_mode xy \n",
    "## This is the result after  Umeyama alignment if --align is removed the error can be expected to increase"
   ]
  },
  {
   "cell_type": "code",
   "execution_count": 8,
   "id": "8cac30ed",
   "metadata": {},
   "outputs": [
    {
     "name": "stdout",
     "output_type": "stream",
     "text": [
      "--------------------------------------------------------------------------------\n",
      "Loaded 120 poses from: ../gt.kitti\n",
      "Loaded 120 poses from: ../optimized_pose.kitti\n",
      "--------------------------------------------------------------------------------\n",
      "name:\tgt\n",
      "infos:\n",
      "\tnr. of poses\t120\n",
      "\tpath length (m)\t52.976517997999295\n",
      "\tpos_end (m)\t[-2.8 -4.5  0. ]\n",
      "\tpos_start (m)\t[-8.  5.  0.]\n",
      "--------------------------------------------------------------------------------\n",
      "name:\toptimized_pose\n",
      "infos:\n",
      "\tnr. of poses\t120\n",
      "\tpath length (m)\t52.072066395182155\n",
      "\tpos_end (m)\t[-5.45184141 -5.79578316  0.        ]\n",
      "\tpos_start (m)\t[-7.9192887   5.44941327  0.        ]\n",
      "\u001b[0m"
     ]
    }
   ],
   "source": [
    "!evo_traj kitti ../gt.kitti ../optimized_pose.kitti  -v --plot --plot_mode xy "
   ]
  },
  {
   "cell_type": "markdown",
   "id": "1081d5d3",
   "metadata": {},
   "source": [
    "## Evaluation Results of G2o optimized trajectory"
   ]
  },
  {
   "cell_type": "code",
   "execution_count": 9,
   "id": "e9ccbbe4",
   "metadata": {},
   "outputs": [
    {
     "name": "stdout",
     "output_type": "stream",
     "text": [
      "--------------------------------------------------------------------------------\n",
      "Loaded 120 poses from: ../gt.kitti\n",
      "Loaded 120 poses from: ../optimized_trajectory.kitti\n",
      "--------------------------------------------------------------------------------\n",
      "Found 119 pairs with delta 1 (frames) among 120 poses using consecutive pairs.\n",
      "Compared 119 relative pose pairs, delta = 1 (frames) with consecutive pairs.\n",
      "Calculating RPE for translation part pose relation...\n",
      "--------------------------------------------------------------------------------\n",
      "RPE w.r.t. translation part (m)\n",
      "for delta = 1 (frames) using consecutive pairs\n",
      "(not aligned)\n",
      "\n",
      "       max\t0.525444\n",
      "      mean\t0.125461\n",
      "    median\t0.108392\n",
      "       min\t0.008218\n",
      "      rmse\t0.150313\n",
      "       sse\t2.688688\n",
      "       std\t0.082785\n",
      "\n",
      "--------------------------------------------------------------------------------\n",
      "Plotting results... \n",
      "\u001b[0m"
     ]
    }
   ],
   "source": [
    "!evo_rpe kitti ../gt.kitti ../optimized_trajectory.kitti  -v --plot --plot_mode xy "
   ]
  },
  {
   "cell_type": "code",
   "execution_count": 10,
   "id": "54811fef",
   "metadata": {},
   "outputs": [
    {
     "name": "stdout",
     "output_type": "stream",
     "text": [
      "--------------------------------------------------------------------------------\n",
      "Loaded 120 poses from: ../gt.kitti\n",
      "Loaded 120 poses from: ../optimized_trajectory.kitti\n",
      "--------------------------------------------------------------------------------\n",
      "Aligning using Umeyama's method...\n",
      "Rotation of alignment:\n",
      "[[ 0.99773616 -0.06724991  0.        ]\n",
      " [ 0.06724991  0.99773616  0.        ]\n",
      " [ 0.          0.          1.        ]]\n",
      "Translation of alignment:\n",
      "[-0.02708699  0.87555806  0.        ]\n",
      "Scale correction: 1.0\n",
      "--------------------------------------------------------------------------------\n",
      "Compared 120 absolute pose pairs.\n",
      "Calculating APE for translation part pose relation...\n",
      "--------------------------------------------------------------------------------\n",
      "APE w.r.t. translation part (m)\n",
      "(with SE(3) Umeyama alignment)\n",
      "\n",
      "       max\t1.666971\n",
      "      mean\t0.757483\n",
      "    median\t0.570244\n",
      "       min\t0.154590\n",
      "      rmse\t0.856638\n",
      "       sse\t88.059482\n",
      "       std\t0.400061\n",
      "\n",
      "--------------------------------------------------------------------------------\n",
      "Plotting results... \n",
      "\u001b[0m"
     ]
    }
   ],
   "source": [
    "!evo_ape kitti ../gt.kitti ../optimized_trajectory.kitti --align  -v --plot --plot_mode xy "
   ]
  },
  {
   "cell_type": "code",
   "execution_count": 11,
   "id": "fdbe6f2b",
   "metadata": {},
   "outputs": [
    {
     "name": "stdout",
     "output_type": "stream",
     "text": [
      "--------------------------------------------------------------------------------\n",
      "Loaded 120 poses from: ../gt.kitti\n",
      "Loaded 120 poses from: ../optimized_trajectory.kitti\n",
      "--------------------------------------------------------------------------------\n",
      "name:\tgt\n",
      "infos:\n",
      "\tnr. of poses\t120\n",
      "\tpath length (m)\t52.976517997999295\n",
      "\tpos_end (m)\t[-2.8 -4.5  0. ]\n",
      "\tpos_start (m)\t[-8.  5.  0.]\n",
      "--------------------------------------------------------------------------------\n",
      "name:\toptimized_trajectory\n",
      "infos:\n",
      "\tnr. of poses\t120\n",
      "\tpath length (m)\t54.60388457262227\n",
      "\tpos_end (m)\t[-2.99433 -3.87123  0.     ]\n",
      "\tpos_start (m)\t[-8.  5.  0.]\n",
      "\u001b[0m"
     ]
    }
   ],
   "source": [
    "!evo_traj kitti ../gt.kitti ../optimized_trajectory.kitti  -v --plot --plot_mode xy "
   ]
  },
  {
   "cell_type": "markdown",
   "id": "87226ec2",
   "metadata": {},
   "source": [
    "## APE and RPE definitions \n",
    "\n",
    "\n",
    "**APE (Absolute pose error)** captures the error in the entire trajectory, it is a measure of global consistancy. Here comparision is done directly between the ground truth and estimated poses to determine  error. \n",
    "\n",
    "**RPE(Relative Pose Error)** this metric is a measure of local consistancy, it does not compare the poses instead the relative constrains (or motion) between the poses. It indicates the amount of drift in the estimates per unit measurment.  "
   ]
  },
  {
   "cell_type": "markdown",
   "id": "surrounded-anderson",
   "metadata": {},
   "source": [
    "If you're interested, play around with this tool and add any other plots that you think might be relevant/interesting."
   ]
  },
  {
   "cell_type": "markdown",
   "id": "exceptional-charity",
   "metadata": {},
   "source": [
    "# g2o"
   ]
  },
  {
   "cell_type": "markdown",
   "id": "presidential-hayes",
   "metadata": {},
   "source": [
    "Install g2o as mentioned in `examples/g2o.ipynb` and optimise `edges.txt`, the file you used earlier. Also use `g2o_viewer` and optimize `intel` (a trajectory in the Intel research lab) and `sphere`. They should look something like:\n",
    "\n",
    "\n",
    "<table><tr>\n",
    "<td> <img src=\"../misc/intel.jpg\" alt=\"Drawing\" style=\"width: 250px;\"/> </td>\n",
    "<td> <img src=\"../misc/sphere.jpg\" alt=\"Drawing\" style=\"width: 250px;\"/> </td>\n",
    "</tr></table>"
   ]
  },
  {
   "cell_type": "markdown",
   "id": "amino-football",
   "metadata": {},
   "source": [
    "Write briefly about your observations and try out few options in the GUI. What do they do, how do they perform?"
   ]
  },
  {
   "cell_type": "markdown",
   "id": "1ac39596",
   "metadata": {},
   "source": [
    "<img src='../intel.png' alt=drawing width=500 height=600>\n",
    "<figcaption align='center'><b>intel.g2o </b></figcaption>    "
   ]
  },
  {
   "cell_type": "markdown",
   "id": "2344b89b",
   "metadata": {},
   "source": [
    "Few major GUI tools are:\n",
    "1. Iterations:- We can define number of iterations\n",
    "2. Robust kernel:- Improves robustness against outliers. Dynamic objects, incorrect correspondances are examples of outliers. \n",
    "3. Optimizer:- Iterative optimization methods like LM and Guass Newton are available. Also within optimizers has different linear solvers like Cholesky decomposition, namely CHOLMOD, CSparse, Preconditioned Conjugate Gradient (PCG).  \n",
    "4. Spanning vs Odometery\n",
    "5. We can change intial guess, reload the g2o file.\n",
    "6. Finally, \"Optimize will solve the SLAM problem. \n",
    "\n",
    "Note:- home/rishabh/g2o/bin and run /.g2o_viwer"
   ]
  },
  {
   "cell_type": "markdown",
   "id": "0ddfca5e",
   "metadata": {},
   "source": [
    "Few observation using sphere.g2o\n",
    "1. Using Spanning Tree method with gn_var_chomod without robust kernel, took 200 iteration still not perfectly coverged. (cf Fig.1)\n",
    "2. Using Odometry method with gn_var_chomod without robust kernel, took 200 iteration still not perfectly coverged. (cf Fig.2)\n",
    "\n",
    "3. Using Spanning Tree method with lm_var_chomod without robust kernel, converged with 53 iteration only. (cf Fig.3)\n",
    "4. Using Odometry method with lm_var_chomod without robust kernel, converged with 53 iteration only. (cf Fig.4)\n",
    "\n",
    "5. Using robust kernel (Cauchy, kernel width = 1) is not helping us to converge faster here. Instead lm_var_chmod results got in case 3rd and 4th did not converged converged till 200 iteration. "
   ]
  },
  {
   "cell_type": "markdown",
   "id": "6a4561ae",
   "metadata": {},
   "source": [
    "<!-- <figure> -->\n",
    "\n",
    "<img src='../Fig1.png' alt=drawing width=500 height=600>\n",
    "<figcaption align='center'><b>Fig.1:- Case 1; Not Convereged </b></figcaption>                 \n",
    "<img src='../Fig2.png' alt=drawing width=500 height=600>\n",
    "<figcaption align='center'><b>Fig.2:- Case 2; Not Convereged </b></figcaption>                 \n",
    "<img src='../Fig3.png' alt=drawing width=500 height=600>\n",
    "<figcaption align='center'><b>Fig.3:- Case 3; Convereged </b></figcaption>                 \n",
    "<img src='../Fig4.png' alt=drawing width=500 height=600>\n",
    "<figcaption align='center'><b>Fig.4:- Case 4; Convereged </b></figcaption>                 \n",
    "\n",
    "\n",
    "<!-- <figcaption align='center'><b>A sample plot, you can use your own plotting template</b></figcaption>/\n",
    "</figure> -->\n",
    "<!-- head over to [this page](https://saishubodh.notion.site/Non-Linear-Least-Squares-Solved-example-Computing-Jacobian-for-a-Gaussian-Gradient-Descent-7fd11ebfee034f8ca89cc78c8f1d24d9) -->"
   ]
  },
  {
   "cell_type": "markdown",
   "id": "0dd8bd0d",
   "metadata": {},
   "source": [
    "## G2o Trajectory optimization using Python API"
   ]
  },
  {
   "cell_type": "markdown",
   "id": "c32c2021",
   "metadata": {},
   "source": [
    "### Please refer to the solution given in the main file question 3 section of  Project-1.ipynb for this solution "
   ]
  }
 ],
 "metadata": {
  "kernelspec": {
   "display_name": "Python 3 (ipykernel)",
   "language": "python",
   "name": "python3"
  },
  "language_info": {
   "codemirror_mode": {
    "name": "ipython",
    "version": 3
   },
   "file_extension": ".py",
   "mimetype": "text/x-python",
   "name": "python",
   "nbconvert_exporter": "python",
   "pygments_lexer": "ipython3",
   "version": "3.8.10"
  }
 },
 "nbformat": 4,
 "nbformat_minor": 5
}
