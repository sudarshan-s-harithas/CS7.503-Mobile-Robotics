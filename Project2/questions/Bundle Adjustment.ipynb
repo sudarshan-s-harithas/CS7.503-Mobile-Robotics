{
 "cells": [
  {
   "cell_type": "markdown",
   "metadata": {},
   "source": [
    "# Bundle Adjustment\n",
    "\n",
    "Part of this assignment is based on scipy-cookbook. It will take around 2 hours to finish."
   ]
  },
  {
   "cell_type": "markdown",
   "metadata": {},
   "source": [
    "# Question 1: Reading"
   ]
  },
  {
   "cell_type": "markdown",
   "metadata": {},
   "source": [
    "1. Read the paper 'Building Rome in a Day' and briefly write about the fundamental idea behind the problem and solution. No need to be verbose, just write about the challenge with the task and how the pipeline is implemented (do not include details about performance/parallelization).\n",
    "\n",
    "2. How is this task different from a SLAM problem?"
   ]
  },
  {
   "cell_type": "markdown",
   "metadata": {},
   "source": [
    "The main idea is to perform matching and 3D reconstruction of large scenes at city scale (or buildings) using large set of images directly downloaded from internet.  \n",
    "\n",
    "\n",
    "Challenges:-\n",
    "1. Find Data Corrspondences between millions of pictures and solving.\n",
    "2. Images has been taken different camera source and weather conditions. \n",
    "3. Bundle Adjustment for large data correspondences. \n",
    "\n",
    "Steps involved:\n",
    "1. Preprocessing:- Data downloading, downsampling and extracting SIFT features\n",
    "2. Image Matching:- Impractical to match all pairs of images. So used  multi-stage matching scheme in which each stage consists of a proposal and a verification step. Proposal uses bag of words (vocabulary tree-based) and it perform photometric matching between feature descriptors and estimate esssential matrix. Then form a \"match graph\" between matching features of images and query expansion to increases the density of the within the connections.\n",
    "3. Geometric Estimation:- First find skeletal set, minimal subset of photographs that capture the essential connectivity of the match graph. Then perform incremental reconstruction for structure from motion. In SFM compute \"R, t\" from estimated essential matrix and then perform triangulation to get 3D points. Then Bundle Adjustment is used to estimate the camera pose and 3D points by minimizing the reprojection error. Novel BA is proposed which choose between a truncated and an exact step LM algorithm. "
   ]
  },
  {
   "cell_type": "markdown",
   "metadata": {},
   "source": [
    "Difference:\n",
    "\n",
    "1. It comparison to SLAM this method has more elaborate and robust feature matching approach. In case of SLAM feature matching involve SIFT / ORB feature descriptors whereas in this work multi-stage feature matching has been used. \n",
    "2. SLAM all images has almost equal contribution (locally) while here used skeletal sets.\n",
    "3. SLAM has loop closure but this paper has not used loop closure. \n",
    "4. SLAM perferred to be online method but this paper is offline approach. "
   ]
  },
  {
   "cell_type": "markdown",
   "metadata": {},
   "source": [
    "# Question 2: Code!"
   ]
  },
  {
   "cell_type": "markdown",
   "metadata": {},
   "source": [
    "### Task\n",
    "We have a set of points in real world defined by their coordinates $(X, Y, Z)$ in some apriori chosen \"world coordinate frame\". We photograph these points by different cameras, which are characterized by their orientation and translation relative to the world coordinate frame and also by focal length and two radial distortion parameters (9 parameters in total). Then we precicely measure 2-D coordinates $(x, y)$ of the points projected by the cameras on images. Our task is to refine 3-D coordinates of original points as well as camera parameters, by minimizing the sum of squares of reprojecting errors."
   ]
  },
  {
   "cell_type": "markdown",
   "metadata": {},
   "source": [
    "We will be using a dataset from http://grail.cs.washington.edu/projects/bal/ for this task. Feel free to choose any of the ones mentioned on the page. Take the smallest file from each dataset (you can choose any but it will take longer to run, consume more memory)"
   ]
  },
  {
   "cell_type": "code",
   "execution_count": 283,
   "metadata": {},
   "outputs": [],
   "source": [
    "import urllib\n",
    "import copy\n",
    "import bz2\n",
    "import os\n",
    "import numpy as np\n",
    "import open3d as o3d"
   ]
  },
  {
   "cell_type": "markdown",
   "metadata": {},
   "source": [
    "First download the data file:"
   ]
  },
  {
   "cell_type": "code",
   "execution_count": 284,
   "metadata": {},
   "outputs": [],
   "source": [
    "# BASE_URL = \"http://grail.cs.washington.edu/projects/bal/data/\"\n",
    "\n",
    "# DATASET_NAME = \"final/\"\n",
    "# FILE_NAME = \"problem-13682-4456117-pre.txt.bz2\"\n",
    "\n",
    "# URL = BASE_URL + DATASET_NAME + FILE_NAME"
   ]
  },
  {
   "cell_type": "code",
   "execution_count": 285,
   "metadata": {},
   "outputs": [],
   "source": [
    "# if not os.path.isfile(FILE_NAME):\n",
    "#     urllib.request.urlretrieve(URL, FILE_NAME)"
   ]
  },
  {
   "cell_type": "markdown",
   "metadata": {},
   "source": [
    "Now read the data from the file:"
   ]
  },
  {
   "cell_type": "code",
   "execution_count": 286,
   "metadata": {},
   "outputs": [],
   "source": [
    "def read_bal_data(file_name):\n",
    "    with bz2.open(file_name, \"rt\") as file:\n",
    "        n_cameras, n_points, n_observations = map(\n",
    "            int, file.readline().split())\n",
    "\n",
    "        camera_indices = np.empty(n_observations, dtype=int)\n",
    "        point_indices = np.empty(n_observations, dtype=int)\n",
    "        points_2d = np.empty((n_observations, 2))\n",
    "\n",
    "        for i in range(n_observations):\n",
    "            camera_index, point_index, x, y = file.readline().split()\n",
    "            camera_indices[i] = int(camera_index)\n",
    "            point_indices[i] = int(point_index)\n",
    "            points_2d[i] = [float(x), float(y)]\n",
    "\n",
    "        camera_params = np.empty(n_cameras * 9)\n",
    "        for i in range(n_cameras * 9):\n",
    "            camera_params[i] = float(file.readline())\n",
    "        camera_params = camera_params.reshape((n_cameras, -1))\n",
    "\n",
    "        points_3d = np.empty(n_points * 3)\n",
    "        for i in range(n_points * 3):\n",
    "            points_3d[i] = float(file.readline())\n",
    "        points_3d = points_3d.reshape((n_points, -1))\n",
    "\n",
    "    return camera_params, points_3d, camera_indices, point_indices, points_2d"
   ]
  },
  {
   "cell_type": "code",
   "execution_count": 287,
   "metadata": {},
   "outputs": [],
   "source": [
    "FILE_NAME = \"../questions/problem-52-64053-pre.txt.bz2\"\n",
    "camera_params, points_3d, camera_indices, point_indices, points_2d = read_bal_data(FILE_NAME)"
   ]
  },
  {
   "cell_type": "code",
   "execution_count": 288,
   "metadata": {
    "scrolled": true
   },
   "outputs": [
    {
     "name": "stdout",
     "output_type": "stream",
     "text": [
      "camera_params: (52, 9);\n",
      "points_3d: (64053, 3);\n",
      "camera_indices: (347173,); \n",
      "point_indices: (347173,); \n",
      "points_2d: (347173, 2)\n"
     ]
    }
   ],
   "source": [
    "print(f\"camera_params: {camera_params.shape};\\npoints_3d: {points_3d.shape};\\n\"\n",
    "        f\"camera_indices: {camera_indices.shape}; \\npoint_indices: {point_indices.shape}; \\n\"\n",
    "        f\"points_2d: {points_2d.shape}\")"
   ]
  },
  {
   "cell_type": "code",
   "execution_count": 289,
   "metadata": {},
   "outputs": [
    {
     "name": "stdout",
     "output_type": "stream",
     "text": [
      "[ 0  1  5  6  9 11 13 17 21 28 29 34 42 43 46 47 49  0  1  3 11 12 13 21\n",
      " 34 43 49  0  1  2  3  5  6  7  8  9 11 12 13 14 17 19 21 28 33 34 38 42\n",
      " 43 46 47 49  0  1  2  4  5  6  9 10 11 14 16 18 21 22 23 26 27 28 29 30\n",
      " 31 32 33 35 37 39 40 44 45 47 48 50 51  0  1  2  3  4  5  6  7  9 10 11\n",
      " 12 14 15 16]\n",
      "[0 0 0 0 0 0 0 0 0 0 0 0 0 0 0 0 0 1 1 1 1 1 1 1 1 1 1 2 2 2 2 2 2 2 2 2 2\n",
      " 2 2 2 2 2 2 2 2 2 2 2 2 2 2 2 3 3 3 3 3 3 3 3 3 3 3 3 3 3 3 3 3 3 3 3 3 3\n",
      " 3 3 3 3 3 3 3 3 3 3 3 4 4 4 4 4 4 4 4 4 4 4 4 4 4 4]\n"
     ]
    }
   ],
   "source": [
    "print(camera_indices[0:100])\n",
    "print(point_indices[0:100])\n",
    "\n",
    "\n",
    "# print(camera_params[0:6])\n",
    "\n",
    "# a = camera_params[0:1]\n",
    "# a = np.concatenate((a, camera_params[1:2]), axis=0)\n",
    "# a = np.concatenate((a, camera_params[5:6]), axis=0)\n",
    "\n",
    "# print(a)"
   ]
  },
  {
   "cell_type": "markdown",
   "metadata": {},
   "source": [
    "Here we have numpy arrays:\n",
    "\n",
    "1. `camera_params` with shape `(n_cameras, 9)` contains initial estimates of parameters for all cameras. First 3 components in each row form a **rotation vector**, next 3 components form a translation vector, then a focal distance and two distortion parameters.\n",
    "2. `points_3d` with shape `(n_points, 3)` contains initial estimates of point coordinates in the world frame.\n",
    "3. `points_2d` with shape `(n_observations, 2)` contains measured 2-D coordinates of points projected on images in all the observations.\n",
    "4. `camera_ind` with shape `(n_observations,)` gives the index of the camera (from 0 to `n_cameras - 1`) associated with a particular observation.   \n",
    "5. `point_ind` with shape `(n_observations,)` contains indices of 3D points (from 0 to `n_points - 1`) involved in each observation."
   ]
  },
  {
   "cell_type": "markdown",
   "metadata": {},
   "source": [
    "# Visualise Point Cloud"
   ]
  },
  {
   "cell_type": "markdown",
   "metadata": {},
   "source": [
    "Visualise `points_3d`. It may not look like 'Venice' or any building as we are working with a small subset."
   ]
  },
  {
   "cell_type": "code",
   "execution_count": 290,
   "metadata": {
    "scrolled": false
   },
   "outputs": [],
   "source": [
    "pcd = o3d.geometry.PointCloud()\n",
    "pcd.points = o3d.utility.Vector3dVector(points_3d)\n",
    "o3d.visualization.draw_geometries([pcd])"
   ]
  },
  {
   "cell_type": "markdown",
   "metadata": {},
   "source": [
    "# Extract Parameters"
   ]
  },
  {
   "cell_type": "markdown",
   "metadata": {},
   "source": [
    "How many cameras and 3D points do we have? Calculate the number of parameters to estimate."
   ]
  },
  {
   "cell_type": "code",
   "execution_count": 291,
   "metadata": {
    "scrolled": true
   },
   "outputs": [
    {
     "name": "stdout",
     "output_type": "stream",
     "text": [
      "n_cameras: 52\n",
      "n_points: 64053\n",
      "Total number of parameters to estimate: 192627\n",
      "Total number of residuals: 6661512\n"
     ]
    }
   ],
   "source": [
    "n_cameras = 52\n",
    "n_points = 64053\n",
    "m = 694346\n",
    "m = 2*52*64053\n",
    "n = 192627\n",
    "\n",
    "print(\"n_cameras: {}\".format(n_cameras))\n",
    "print(\"n_points: {}\".format(n_points))\n",
    "print(\"Total number of parameters to estimate: {}\".format(n))\n",
    "print(\"Total number of residuals: {}\".format(m))\n"
   ]
  },
  {
   "cell_type": "markdown",
   "metadata": {},
   "source": [
    "We chose a relatively small problem to reduce computation time, but scipy's algorithm is capable of solving much larger problems, although required time will grow proportionally."
   ]
  },
  {
   "cell_type": "markdown",
   "metadata": {},
   "source": [
    "Now define the function which returns a vector of residuals. We use numpy vectorized computations:"
   ]
  },
  {
   "cell_type": "markdown",
   "metadata": {},
   "source": [
    "### A short review on Transformations\n",
    "\n",
    "Rodrigues Formula: $$\\mathbf{R}=\\cos \\theta \\mathbf{I}+(1-\\cos \\theta) \\mathbf{n n}^{\\mathrm{T}}+\\sin \\theta \\mathbf{n}^{\\wedge}$$\n",
    "If described by a rotation vector, assuming that the rotation axis is a unit length vector $\\mathbf{n}$ and the angle is $\\theta$, then the vector $\\theta \\mathbf{n}$ can also describe this rotation. Here, rot_vecs = $\\theta \\mathbf{n}$."
   ]
  },
  {
   "cell_type": "code",
   "execution_count": 292,
   "metadata": {},
   "outputs": [],
   "source": [
    "def rotate(points, rot_vecs):\n",
    "    \"\"\"Rotate points by given rotation vectors.\n",
    "    \n",
    "    Rodrigues' rotation formula is used.\n",
    "    \"\"\"\n",
    "#     print(\"rot_vecs\", rot_vecs)\n",
    "    theta = np.linalg.norm(rot_vecs, axis=1)[:, np.newaxis] #np.newaxis converts this into a column vector.\n",
    "#     print(\"theta\", theta)\n",
    "    with np.errstate(invalid='ignore'):\n",
    "        v = rot_vecs / theta\n",
    "        v = np.nan_to_num(v)\n",
    "\n",
    "    dot = np.sum(points * v, axis=1)[:, np.newaxis]  #element wise multiplication\n",
    "    cos_theta = np.cos(theta)\n",
    "    sin_theta = np.sin(theta)\n",
    "    \n",
    "    return (cos_theta * points) + ((1 - cos_theta) * v * dot) + (sin_theta * np.cross(v, points))"
   ]
  },
  {
   "cell_type": "markdown",
   "metadata": {},
   "source": [
    "## A short review on camera modelling & radial distortion\n",
    "\n",
    "\n",
    "\n",
    "- Each pixel moves radially away from (barrel) or towards (pincushion) the image center (c).\n",
    "- As a function of distance from $c: r_{c}^{2}=x_{c}^{2}+y_{c}^{2}$.\n",
    "- The shift $\\gamma$ can be modelled as: $\\gamma=1+k_{1} r_{c}^{2}+k_{2} r_{c}^{4}$ where ${k}_{1}$ and ${k}_{2}$ are radial distortion parameters.\n",
    "- The modified co-ordinates are:\n",
    "\n",
    "$$\\begin{array}{l}\n",
    "\\hat{x}_{c}=\\gamma x_{c} \\\\\n",
    "\\hat{y}_{c}=\\gamma y_{c}\n",
    "\\end{array} \n",
    "$$\n",
    "\n",
    "- **This is applied before the focal-length multiplier and center shift are applied**: Meaning before $K$ matrix is even applied. But how do we exactly do that?\n",
    "\n",
    "    $$\\mathbf{K}=\\left[\\begin{array}{ccc}\\alpha_{x} & 0 & x_{0} \\\\0 & \\alpha_{y} & y_{0} \\\\0 & 0 & 1\\end{array}\\right] ; \\qquad      \\lambda {p} = \\mathrm{x} =K[R \\quad t] \\mathrm{X}$$\n",
    "\n",
    "    $$x_{final} = \\gamma \\left(\\frac{f_0X}{Z}+c_x \\right)\n",
    "     \\qquad \\color{red} \\bigotimes \\textbf{wrong}$$\n",
    "\n",
    "    $$x_{final} =  \\left(f_0 \\left(\\gamma\\frac{X}{Z} \\right)+c_x \\right)\n",
    "     \\qquad \\color{surd} \\checkmark \\textbf{correct}$$"
   ]
  },
  {
   "cell_type": "markdown",
   "metadata": {},
   "source": [
    "### Summing it up\n",
    "Let $\\pmb{P} = (X, Y, Z)^T$ - a radius-vector of a point, $\\pmb{R}$ - a rotation matrix of a camera, $\\pmb{t}$ - a translation vector of a camera, $f$ - its focal distance, $k_1, k_2$ - its distortion parameters. Then the reprojecting is done as follows:\n",
    "\n",
    "\\begin{align}\n",
    "\\pmb{Q} = \\pmb{R} \\pmb{P} + \\pmb{t} \\\\\n",
    "\\pmb{q} = -\\begin{pmatrix} Q_x / Q_z \\\\ Q_y / Q_z \\end{pmatrix} \\\\\n",
    "\\pmb{p} = f (1 + k_1 \\lVert \\pmb{q} \\rVert^2 + k_2 \\lVert \\pmb{q} \\rVert^4) \\pmb{q}\n",
    "\\end{align}\n",
    "The resulting vector $\\pmb{p}=(x, y)^T$ contains image coordinates of the original point.\n",
    "![radial_distortion_1.png](./misc/radial_distortion_1.png) \n",
    "![radial_distortion_2.png](./misc/radial_distortion_2.png)"
   ]
  },
  {
   "cell_type": "code",
   "execution_count": 293,
   "metadata": {},
   "outputs": [],
   "source": [
    "def project(points, camera_params):\n",
    "    rot_vecs = np.array(camera_params[: , 0:3])\n",
    "    translate = np.array(camera_params[: , 3:6])\n",
    "#     print(rotated_vec[0])\n",
    "#     print(translate[0])\n",
    "    rotated_vec = rotate(points, rot_vecs)\n",
    "    translated_vec = rotated_vec + translate\n",
    "#     print(translated_vec[0])\n",
    "#     print(rotate(points, rot_vecs).shape)\n",
    "#     print(translate.shape)\n",
    "#     print(translated_vec.shape)\n",
    "    u =  translated_vec\n",
    "#     print(u.shape)\n",
    "#     print(u)\n",
    "#     print(u[:,0])\n",
    "#     print(camera_params[:,6])\n",
    "    project_x =  -camera_params[:,6] * ((u[:,0]/u[:,2]))\n",
    "    project_y =  -camera_params[:,6] * ((u[:,1]/u[:,2]))\n",
    "#     print(project_x)\n",
    "    r = np.sqrt(project_x**2 + project_y**2)\n",
    "    project_x = project_x*(1 + (camera_params[:,7]*r**2) + camera_params[:,8]*r**4)\n",
    "    project_y = project_y*(1 + (camera_params[:,7]*r**2) + camera_params[:,8]*r**4)\n",
    "#     print(project_x)\n",
    "#     print(project_x.shape)\n",
    "#     print(project_y.shape)\n",
    "    points_proj = np.stack((project_x, project_y), axis=1)\n",
    "#     print(points_proj)\n",
    "#     print(points_proj.shape)\n",
    "\n",
    "    return points_proj\n",
    "\n",
    "# points_proj = project(points_3d[point_indices], camera_params[camera_indices])"
   ]
  },
  {
   "cell_type": "code",
   "execution_count": 294,
   "metadata": {},
   "outputs": [
    {
     "name": "stdout",
     "output_type": "stream",
     "text": [
      "[-281.1530145  -67.9964153]\n",
      "[-280.79  -68.  ]\n",
      "-------\n",
      "[-127.95619734  246.06604914]\n",
      "[-125.27  238.25]\n",
      "-------\n",
      "[-491.97010377  120.07339404]\n",
      "[-487.91  124.33]\n",
      "-------\n",
      "[ 224.73667395 -233.44632085]\n",
      "[ 221.74 -234.16]\n",
      "-------\n"
     ]
    }
   ],
   "source": [
    "def fun(params, n_cameras, n_points, camera_indices, point_indices, points_2d):\n",
    "    \"\"\"Compute residuals.\n",
    "    \n",
    "    `params` contains camera parameters and 3-D coordinates.\n",
    "    \"\"\"\n",
    "    params = copy.deepcopy(params)\n",
    "    camera_params = params[:n_cameras * 9].reshape((n_cameras, 9))\n",
    "    \n",
    "    points_3d = params[n_cameras * 9:].reshape((n_points, 3))\n",
    "    points_proj = project(points_3d[point_indices], camera_params[camera_indices])\n",
    "    return (points_proj - points_2d).ravel()\n",
    "\n",
    "points_proj = project(points_3d[point_indices], camera_params[camera_indices])\n",
    "\n",
    "\n",
    "print(points_proj[10])\n",
    "print(points_2d[10])\n",
    "print(\"-------\")\n",
    "\n",
    "print(points_proj[100])\n",
    "print(points_2d[100])\n",
    "print(\"-------\")\n",
    "\n",
    "print(points_proj[1000])\n",
    "print(points_2d[1000])\n",
    "print(\"-------\")\n",
    "\n",
    "print(points_proj[10000])\n",
    "print(points_2d[10000])\n",
    "print(\"-------\")\n"
   ]
  },
  {
   "cell_type": "markdown",
   "metadata": {},
   "source": [
    "## A short review on Structure from Motion\n",
    "### Residual\n",
    "In our lecture, in the residual vector, we  wrote the elements in order: 11, 12, 13.., 1N, then 21, 22.. and so on till MN. However, notice that it is not the case here."
   ]
  },
  {
   "cell_type": "markdown",
   "metadata": {},
   "source": [
    "M -> camera, N -> 3D point (in our lectures, NOT in this code)\n",
    "![sfm_residual_1.png](./misc/sfm_residual_1.png)"
   ]
  },
  {
   "cell_type": "markdown",
   "metadata": {},
   "source": [
    "You can see that computing Jacobian of `fun` is cumbersome, thus we will rely on the finite difference approximation. To make this process time feasible we provide Jacobian sparsity structure (i. e. mark elements which are known to be non-zero):"
   ]
  },
  {
   "cell_type": "markdown",
   "metadata": {},
   "source": [
    "![sfm_jac_2.png](./misc/sfm_jac_2.png)"
   ]
  },
  {
   "cell_type": "markdown",
   "metadata": {},
   "source": [
    "Since the matrix is sparse, we can make use of datastructures that are meant for such a usecase - https://docs.scipy.org/doc/scipy/reference/generated/scipy.sparse.lil_matrix.html."
   ]
  },
  {
   "cell_type": "code",
   "execution_count": 303,
   "metadata": {},
   "outputs": [],
   "source": [
    "from scipy.sparse import lil_matrix"
   ]
  },
  {
   "cell_type": "markdown",
   "metadata": {},
   "source": [
    "The code for the matrix computation has been given to you, you will have to explain this function later on."
   ]
  },
  {
   "cell_type": "code",
   "execution_count": 304,
   "metadata": {},
   "outputs": [],
   "source": [
    "def bundle_adjustment_sparsity(n_cameras, n_points, camera_indices, point_indices):\n",
    "    m = 694346\n",
    "  \n",
    "    n = 192627\n",
    "            \n",
    "    A = lil_matrix((m, n), dtype=int)\n",
    "\n",
    "    camera_indices = np.sort(camera_indices)\n",
    "    point_indices = np.sort(point_indices)\n",
    "    \n",
    "    i = np.arange(camera_indices.size)\n",
    "    for s in range(9):\n",
    "        A[2 * i, camera_indices * 9 + s] = 1\n",
    "        A[2 * i + 1, camera_indices * 9 + s] = 1\n",
    "\n",
    "    for s in range(3):\n",
    "        A[2 * i, n_cameras * 9 + point_indices * 3 + s] = 1\n",
    "        A[2 * i + 1, n_cameras * 9 + point_indices * 3 + s] = 1\n",
    "            \n",
    "    return A\n"
   ]
  },
  {
   "cell_type": "markdown",
   "metadata": {},
   "source": [
    "### THAT'S IT! Now we are ready to use inbuilt library functions!\n",
    "Now we are ready to run optimization. Let's visualize residuals evaluated with the initial parameters."
   ]
  },
  {
   "cell_type": "code",
   "execution_count": 305,
   "metadata": {},
   "outputs": [],
   "source": [
    "%matplotlib inline\n",
    "import matplotlib.pyplot as plt"
   ]
  },
  {
   "cell_type": "code",
   "execution_count": 306,
   "metadata": {},
   "outputs": [],
   "source": [
    "x0 = np.hstack((camera_params.ravel(), points_3d.ravel()))"
   ]
  },
  {
   "cell_type": "code",
   "execution_count": 307,
   "metadata": {},
   "outputs": [],
   "source": [
    "f0 = fun(x0, n_cameras, n_points, camera_indices, point_indices, points_2d)"
   ]
  },
  {
   "cell_type": "code",
   "execution_count": 308,
   "metadata": {},
   "outputs": [
    {
     "data": {
      "text/plain": [
       "[<matplotlib.lines.Line2D at 0x7f6f8510e310>]"
      ]
     },
     "execution_count": 308,
     "metadata": {},
     "output_type": "execute_result"
    },
    {
     "data": {
      "image/png": "[encoded data removed]",
      "text/plain": [
       "<Figure size 432x288 with 1 Axes>"
      ]
     },
     "metadata": {
      "needs_background": "light"
     },
     "output_type": "display_data"
    }
   ],
   "source": [
    "plt.plot(f0)"
   ]
  },
  {
   "cell_type": "code",
   "execution_count": 309,
   "metadata": {},
   "outputs": [
    {
     "name": "stdout",
     "output_type": "stream",
     "text": [
      "(694346, 192627) 52 64053\n"
     ]
    }
   ],
   "source": [
    "A = bundle_adjustment_sparsity(n_cameras, n_points, camera_indices, point_indices)\n",
    "print(A.shape, n_cameras, n_points)"
   ]
  },
  {
   "cell_type": "markdown",
   "metadata": {},
   "source": [
    "### Optimization\n",
    "\n",
    "Scipy has existing functions for optimization that we can make use of. Write a sentence about the method that is used for optimization"
   ]
  },
  {
   "cell_type": "code",
   "execution_count": 310,
   "metadata": {},
   "outputs": [],
   "source": [
    "import time\n",
    "from scipy.optimize import least_squares"
   ]
  },
  {
   "cell_type": "markdown",
   "metadata": {},
   "source": [
    "#### ‘trf’ : Trust Region Reflective algorithm is suitable for large sparse problems with bounds. Generally it is robust method."
   ]
  },
  {
   "cell_type": "code",
   "execution_count": 311,
   "metadata": {
    "scrolled": true
   },
   "outputs": [
    {
     "name": "stdout",
     "output_type": "stream",
     "text": [
      "   Iteration     Total nfev        Cost      Cost reduction    Step norm     Optimality   \n",
      "       0              1         5.9420e+06                                    1.37e+18    \n",
      "       1             11         5.9420e+06      0.00e+00       0.00e+00       1.37e+18    \n",
      "`xtol` termination condition is satisfied.\n",
      "Function evaluations 11, initial cost 5.9420e+06, final cost 5.9420e+06, first-order optimality 1.37e+18.\n"
     ]
    }
   ],
   "source": [
    "t0 = time.time()\n",
    "# So far: method='lm'\n",
    "res = least_squares(fun, x0, jac_sparsity=A, verbose=2, x_scale='jac', ftol=1e-8, xtol=1e-8, gtol=1e-8, method='trf',\n",
    "                    args=(n_cameras, n_points, camera_indices, point_indices, points_2d))\n",
    "t1 = time.time()"
   ]
  },
  {
   "cell_type": "code",
   "execution_count": 312,
   "metadata": {},
   "outputs": [],
   "source": [
    "params = res.x\n",
    "\n",
    "new_camera_params = params[:n_cameras * 9].reshape((n_cameras, 9))\n",
    "new_points_3d = params[n_cameras * 9:].reshape((n_points, 3))"
   ]
  },
  {
   "cell_type": "markdown",
   "metadata": {},
   "source": [
    "### Plot Optimised Points"
   ]
  },
  {
   "cell_type": "code",
   "execution_count": 313,
   "metadata": {},
   "outputs": [],
   "source": [
    "pcd = o3d.geometry.PointCloud()\n",
    "pcd.points = o3d.utility.Vector3dVector(new_points_3d)\n",
    "o3d.visualization.draw_geometries([pcd])"
   ]
  },
  {
   "cell_type": "markdown",
   "metadata": {},
   "source": [
    "Setting `scaling='jac'` was done to automatically scale the variables and equalize their influence on the cost function (clearly the camera parameters and coordinates of the points are very different entities). This option turned out to be crucial for successfull bundle adjustment."
   ]
  },
  {
   "cell_type": "code",
   "execution_count": 314,
   "metadata": {},
   "outputs": [
    {
     "name": "stdout",
     "output_type": "stream",
     "text": [
      "Optimization took 34 seconds\n"
     ]
    }
   ],
   "source": [
    "print(\"Optimization took {0:.0f} seconds\".format(t1 - t0))"
   ]
  },
  {
   "cell_type": "markdown",
   "metadata": {},
   "source": [
    "Now let's plot residuals at the found solution:"
   ]
  },
  {
   "cell_type": "code",
   "execution_count": 315,
   "metadata": {},
   "outputs": [
    {
     "data": {
      "text/plain": [
       "[<matplotlib.lines.Line2D at 0x7f6f90ab6f10>]"
      ]
     },
     "execution_count": 315,
     "metadata": {},
     "output_type": "execute_result"
    },
    {
     "data": {
      "image/png": "[encoded data removed]",
      "text/plain": [
       "<Figure size 432x288 with 1 Axes>"
      ]
     },
     "metadata": {
      "needs_background": "light"
     },
     "output_type": "display_data"
    }
   ],
   "source": [
    "plt.plot(res.fun)"
   ]
  },
  {
   "cell_type": "markdown",
   "metadata": {},
   "source": [
    "We see much better picture of residuals now, with the mean being very close to zero. There are some spikes left. It can be explained by outliers in the data, or, possibly, the algorithm found a local minimum (very good one though) or didn't converged enough. Note that the algorithm worked with Jacobian finite difference aproximate, which can potentially block the progress near the minimum because of insufficient accuracy (but again, computing exact Jacobian for this problem is quite difficult)."
   ]
  },
  {
   "cell_type": "markdown",
   "metadata": {},
   "source": [
    "### Project 2- Part B: Submission details -\n",
    "You are supposed to gain understanding by playing around with the code above and submit your answers to questions asked below. You shouldn't submit this whole notebook, just copy the following cells (starting next cell up until the end of this notebook) and paste it at the end of your Project 2 notebook (already shared on GitHub classrooms, [link](https://github.com/AryanSakaria/Project_2/blob/main/Project_2.ipynb))."
   ]
  },
  {
   "cell_type": "code",
   "execution_count": null,
   "metadata": {},
   "outputs": [],
   "source": []
  },
  {
   "cell_type": "markdown",
   "metadata": {},
   "source": [
    "# Theory\n",
    "\n",
    "## 1. SfM pipeline (`6 mark`)\n",
    "\n",
    "To get the context of below questions, take a look at the code above: The same questions have been asked at different places above as comments in the code.\n",
    "\n",
    "1. `0.5 mark` **Basics** - How do we know this (`camera_ind`) information in practical setting? In other words, how do we know observations in `points_2d` belong to which camera. Explain. \n",
    "    - Ans-1 - Basics: An appropriate data structure is necessary that not only stores the 2D-2D correspondance (that is obtained using SIFT or ORB) but also the necesary camera index from which the images are obtained.  For example MATLAB has [imageviewset](https://in.mathworks.com/help/vision/ref/imageviewset.html) data-structure that stores correspondance between keyframes.  \n",
    "    \n",
    "    \n",
    "2. `0.5 mark` **Basics** - How do we know this (`point_ind`) information in practical setting?  In other words, how do we know observations in `points_2d` belong to which 3D point. Explain.\n",
    "    - Ans-2 - Basics:  An appropriate data structure is necessary that stores the 3D-2D correspondance of points. For example MATLAB has [worldpointset](https://in.mathworks.com/help/vision/ref/worldpointset.html) that stores this correspondance. \n",
    "    \n",
    "3. `0.5 mark` **Transformations** - `rotate()` function: Why do we use the rodriquez formula? How is this representation different from the standard 3x3 Rotation matrix, why do we use this instead?\n",
    "    - Ans-3 - Transformations: Interpolation is smooth. Inversion is easier. Only one angle value and one direction vector is required to rotation, its ...  \n",
    "\n",
    "    \n",
    "4. `0.5 mark` **Transformations** - `project()` function: In the `project()` function, would it make any difference if I do translate first, then rotate? Why/why not?\n",
    "    - Ans-4 - Transformations: Transformation Matrix belongs to SE(3), which is non commutative, so yes switching the order of translation and rotation will lead to different position. \n",
    "        \n",
    "        \n",
    "5. `0.5 mark` **Jacobian** - `bundle_adjustment_sparsity()` function: m above is not \"M*N\" (*2) unlike our lecture notes. Why is that so?\n",
    "    - Ans-5 - The value of \"m\" (in code) in twice the number of observations (because of x y coordinates) , the number of observations is given by shape of camera_ind. In the class notes \"N\" in the number of 3D points, here although this information is available a given point is observed in multiple camera frames and the actual number of observations is only available in \"camera_ind\".  \n",
    "    \n",
    "6. `2 mark` **Jacobian & Parameters** - `bundle_adjustment_sparsity()` function: \n",
    "    1.  Why are we doing `n_cameras * 9` here instead of `n_cameras * 12`? Recollect: Every individual motion Jacobian was (1*)12 in our lecture notes. \n",
    "        - Ans 6.1 - Jacobian & Parameters: Because axis angle representation need only 3 elements for rotation. Hence our 9 parameters become camera focal length, 2 camera centers, 3 rotation and 3 translation parameters instead of 12 parameters.\n",
    "        \n",
    "    2. Ignoring the scale parameters, what was the number of unknown parameters in our lecture notes in terms of `n_cameras` and `n_points`? What is it here in the code? Is it different? If so, what is and why? [Link of notes](https://www.notion.so/Stereo-Structure-from-Motion-9fdd81e4194f4803ac9ba7552df56470).\n",
    "        - Ans 6.2 - Jacobian & Parameters: \\\n",
    "        Unknown paramters according to notes:\\\n",
    "        World points : n_points x 3 \\\n",
    "        Pose : n_cameras x 6  or n_camera x 12 (according to pose parameterization if 6 parameters are used to estimate pose the 6 else 12) \\\n",
    "        Total = World points + Pose\n",
    "        - Unknown parameters according to the code\\\n",
    "        World points : n_points x 3 \\\n",
    "        Orientation : n_cameras x 9 \\\n",
    "        Total = World points + Orientation\n",
    "        \n",
    "            \n",
    "            \n",
    "7. `6 mark` **Sparsity, Residual Vector & Jacobian** - `bundle_adjustment_sparsity()` function: Explain what you understand from above 6 lines of code by coding a simple toy example yourself to illustrate how it is different from what you've learnt in class. ([Coding toy example + elaborating in words]- both are compulsory.) For the toy example, you can take something like 3 points all seen from 3 cameras. (You don't actually have to code much, just need to call the existing function) Write that toy example after this cell\n",
    "    - Ans 6 - Sparsity, Residual Vector & Jacobian: \n",
    "        - The first 3 lines of the code calculates the motion jacobian. Therefore it gives the derivative of the residual vector wrt to the 9  parameters of the P matrix.\n",
    "        - The next 3 lines of the code calculates the structure jacobian. It gives the derivative of the residual vector wrt the 3 axes X,Y,Z .\n",
    "        - In the code, since the bundle adjustment is sparse, only the jacobian of the points present in that specfic image is calculated and rest are made zero.\n",
    "         - Since the point $x_{ij}$ only depends on camera j, $\\frac{\\partial x_{ij}}{\\partial P_k} = 0$ for $j \\neq k$ "
   ]
  },
  {
   "cell_type": "code",
   "execution_count": 272,
   "metadata": {},
   "outputs": [],
   "source": [
    "FILE_NAME = \"../questions/problem-52-64053-pre.txt.bz2\"\n",
    "camera_params, points_3d, camera_indices, point_indices, points_2d = read_bal_data(FILE_NAME)"
   ]
  },
  {
   "cell_type": "code",
   "execution_count": 273,
   "metadata": {},
   "outputs": [],
   "source": [
    "def project(points, camera_params):\n",
    "    \n",
    "    rot_vecs = np.array(camera_params[: , 0:3])\n",
    "    translate = np.array(camera_params[: , 3:6])\n",
    "    \n",
    "    rotated_vec = rotate(points, rot_vecs)\n",
    "    translated_vec = rotated_vec + translate  \n",
    "    u =  translated_vec\n",
    "\n",
    "    project_x =  -camera_params[:,6] * ((u[:,0]/u[:,2]))\n",
    "    project_y =  -camera_params[:,6] * ((u[:,1]/u[:,2]))\n",
    "\n",
    "    r = np.sqrt(project_x**2 + project_y**2)\n",
    "    project_x = project_x*(1 + (camera_params[:,7]*r**2) + camera_params[:,8]*r**4)\n",
    "    project_y = project_y*(1 + (camera_params[:,7]*r**2) + camera_params[:,8]*r**4)\n",
    "\n",
    "    points_proj = np.stack((project_x, project_y), axis=1)\n",
    "    return points_proj\n",
    "\n",
    "def fun(params, n_cameras, n_points, camera_indices, point_indices, points_2d):\n",
    " \n",
    "    params = copy.deepcopy(params)\n",
    "    camera_params = params[:n_cameras * 9].reshape((n_cameras, 9))\n",
    "    points_3d = params[n_cameras * 9:].reshape((n_points, 3))\n",
    "    points_proj = project(points_3d[point_indices], camera_params[camera_indices])\n",
    "\n",
    "    return (points_proj - points_2d).ravel()\n",
    "\n",
    "def bundle_adjustment_sparsity(n_cameras, n_points, camera_indices, point_indices):\n",
    "    m = 6\n",
    "    n = 36\n",
    "            \n",
    "    A = lil_matrix((m, n), dtype=int)\n",
    "\n",
    "    camera_indices = np.sort(camera_indices)\n",
    "    point_indices = np.sort(point_indices)\n",
    "    \n",
    "    i = np.arange(camera_indices.size)\n",
    "    for s in range(9):\n",
    "        A[2 * i, camera_indices * 9 + s] = 1\n",
    "        A[2 * i + 1, camera_indices * 9 + s] = 1\n",
    "\n",
    "    for s in range(3):\n",
    "        A[2 * i, n_cameras * 9 + point_indices * 3 + s] = 1\n",
    "        A[2 * i + 1, n_cameras * 9 + point_indices * 3 + s] = 1\n",
    "            \n",
    "    return A"
   ]
  },
  {
   "cell_type": "code",
   "execution_count": 274,
   "metadata": {},
   "outputs": [
    {
     "name": "stdout",
     "output_type": "stream",
     "text": [
      "[[-209.52354254 -346.54017455]\n",
      " [-311.74298163 -352.60829645]\n",
      " [ -79.83069045   -8.1419948 ]]\n",
      "[[-209.61     -346.63    ]\n",
      " [-311.67     -352.52    ]\n",
      " [ -79.97998    -7.309998]]\n"
     ]
    },
    {
     "data": {
      "text/plain": [
       "[<matplotlib.lines.Line2D at 0x7f6f85253580>]"
      ]
     },
     "execution_count": 274,
     "metadata": {},
     "output_type": "execute_result"
    },
    {
     "data": {
      "image/png": "[encoded data removed]",
      "text/plain": [
       "<Figure size 432x288 with 1 Axes>"
      ]
     },
     "metadata": {
      "needs_background": "light"
     },
     "output_type": "display_data"
    }
   ],
   "source": [
    "import matplotlib.pyplot as plt\n",
    "\n",
    "points_3d = (points_3d[0:3])\n",
    "points_2d = (points_2d[0:3])\n",
    "\n",
    "point_indices = point_indices[0:3]\n",
    "camera_indices = (camera_indices[0:3])\n",
    "\n",
    "# camera_params = camera_params[0:3]\n",
    "\n",
    "a = camera_params[0:1]\n",
    "a = np.concatenate((a, camera_params[1:2]), axis=0)\n",
    "a = np.concatenate((a, camera_params[5:6]), axis=0)\n",
    "camera_params = a\n",
    "camera_indices = np.array([0,1,2])\n",
    "\n",
    "x0 = np.hstack((camera_params.ravel(), points_3d.ravel()))\n",
    "\n",
    "n_cameras = 3\n",
    "n_points = 3\n",
    "f0 = fun(x0, n_cameras, n_points, camera_indices, point_indices, points_2d)\n",
    "\n",
    "plt.plot(f0)\n"
   ]
  },
  {
   "cell_type": "code",
   "execution_count": 275,
   "metadata": {},
   "outputs": [
    {
     "name": "stdout",
     "output_type": "stream",
     "text": [
      "[[-209.52354254 -346.54017455]\n",
      " [-311.74298163 -352.60829645]\n",
      " [ -79.83069045   -8.1419948 ]]\n",
      "[[-209.61     -346.63    ]\n",
      " [-311.67     -352.52    ]\n",
      " [ -79.97998    -7.309998]]\n",
      "[[-209.52353735 -346.54017767]\n",
      " [-310.69941467 -351.42793189]\n",
      " [ -79.83068364   -8.14199159]]\n",
      "[[-209.61     -346.63    ]\n",
      " [-311.67     -352.52    ]\n",
      " [ -79.97998    -7.309998]]\n",
      "[[-8.44847199e+04 -1.39732983e+05]\n",
      " [-3.11742986e+02 -3.52608302e+02]\n",
      " [-7.98306905e+01 -8.14198472e+00]]\n",
      "[[-209.61     -346.63    ]\n",
      " [-311.67     -352.52    ]\n",
      " [ -79.97998    -7.309998]]\n",
      "[[-209.52354196 -346.54017359]\n",
      " [-311.74301671 -352.60829874]\n",
      " [ -30.54501299   -3.11530986]]\n",
      "[[-209.61     -346.63    ]\n",
      " [-311.67     -352.52    ]\n",
      " [ -79.97998    -7.309998]]\n",
      "[[-209.01040066 -345.6914667 ]\n",
      " [-311.74297649 -352.60830189]\n",
      " [ -79.8383468    -8.14277567]]\n",
      "[[-209.61     -346.63    ]\n",
      " [-311.67     -352.52    ]\n",
      " [ -79.97998    -7.309998]]\n",
      "[[-209.52353942 -346.5401694 ]\n",
      " [-311.74298091 -352.60828876]\n",
      " [ -79.83067973   -8.14200112]]\n",
      "[[-209.61     -346.63    ]\n",
      " [-311.67     -352.52    ]\n",
      " [ -79.97998    -7.309998]]\n",
      "[[-209.52354846 -346.54017455]\n",
      " [-311.7429881  -352.60829691]\n",
      " [ -79.83069414   -8.14199535]]\n",
      "[[-209.61     -346.63    ]\n",
      " [-311.67     -352.52    ]\n",
      " [ -79.97998    -7.309998]]\n",
      "[[-209.52354253 -346.54018047]\n",
      " [-311.74298128 -352.60830277]\n",
      " [ -79.83069053   -8.14199877]]\n",
      "[[-209.61     -346.63    ]\n",
      " [-311.67     -352.52    ]\n",
      " [ -79.97998    -7.309998]]\n",
      "[[-209.52357479 -346.54017504]\n",
      " [-311.74298161 -352.60830284]\n",
      " [ -79.83069164   -8.14199492]]\n",
      "[[-209.61     -346.63    ]\n",
      " [-311.67     -352.52    ]\n",
      " [ -79.97998    -7.309998]]\n",
      "[[-2.09523546e+02 -3.46540180e+02]\n",
      " [-2.33652838e+05 -2.64281585e+05]\n",
      " [-7.98306902e+01 -8.14199477e+00]]\n",
      "[[-209.61     -346.63    ]\n",
      " [-311.67     -352.52    ]\n",
      " [ -79.97998    -7.309998]]\n",
      "[[-209.52354254 -346.54016863]\n",
      " [-311.74298267 -352.60829763]\n",
      " [ -79.83069204   -8.14201493]]\n",
      "[[-209.61     -346.63    ]\n",
      " [-311.67     -352.52    ]\n",
      " [ -79.97998    -7.309998]]\n",
      "[[-209.52353661 -346.54017455]\n",
      " [-311.74297525 -352.60829648]\n",
      " [ -79.83069943   -8.1419948 ]]\n",
      "[[-209.61     -346.63    ]\n",
      " [-311.67     -352.52    ]\n",
      " [ -79.97998    -7.309998]]\n",
      "[[-209.52354302 -346.54020732]\n",
      " [-311.74298223 -352.6082614 ]\n",
      " [ -79.83067046   -8.14199338]]\n",
      "[[-209.61     -346.63    ]\n",
      " [-311.67     -352.52    ]\n",
      " [ -79.97998    -7.309998]]\n",
      "   Iteration     Total nfev        Cost      Cost reduction    Step norm     Optimality   \n",
      "       0              1         3.7159e-01                                    2.71e+12    \n",
      "[[-209.6100337  -346.63003299]\n",
      " [-311.67001507 -352.52001577]\n",
      " [ -79.9801827    -7.30929727]]\n",
      "[[-209.61     -346.63    ]\n",
      " [-311.67     -352.52    ]\n",
      " [ -79.97998    -7.309998]]\n",
      "[[-209.61002851 -346.63003612]\n",
      " [-310.62694939 -351.34023745]\n",
      " [ -79.98017587   -7.30929406]]\n",
      "[[-209.61     -346.63    ]\n",
      " [-311.67     -352.52    ]\n",
      " [ -79.97998    -7.309998]]\n",
      "[[-8.45759525e+04 -1.39862413e+05]\n",
      " [-3.11670020e+02 -3.52520021e+02]\n",
      " [-7.99801827e+01 -7.30928718e+00]]\n",
      "[[-209.61     -346.63    ]\n",
      " [-311.67     -352.52    ]\n",
      " [ -79.97998    -7.309998]]\n",
      "[[-209.61003312 -346.63003203]\n",
      " [-311.67005013 -352.52001806]\n",
      " [-129.41935747  -11.82748681]]\n",
      "[[-209.61     -346.63    ]\n",
      " [-311.67     -352.52    ]\n",
      " [ -79.97998    -7.309998]]\n",
      "[[-209.09653583 -345.78086666]\n",
      " [-311.67000993 -352.52002121]\n",
      " [ -79.98785646   -7.30999857]]\n",
      "[[-209.61     -346.63    ]\n",
      " [-311.67     -352.52    ]\n",
      " [ -79.97998    -7.309998]]\n",
      "[[-209.61003058 -346.63002784]\n",
      " [-311.67001434 -352.52000809]\n",
      " [ -79.98017195   -7.30930361]]\n",
      "[[-209.61     -346.63    ]\n",
      " [-311.67     -352.52    ]\n",
      " [ -79.97998    -7.309998]]\n",
      "[[-209.61003962 -346.63003299]\n",
      " [-311.67002153 -352.52001623]\n",
      " [ -79.9801864    -7.30929783]]\n",
      "[[-209.61     -346.63    ]\n",
      " [-311.67     -352.52    ]\n",
      " [ -79.97998    -7.309998]]\n",
      "[[-209.61003369 -346.63003891]\n",
      " [-311.67001471 -352.52002209]\n",
      " [ -79.98018277   -7.30930125]]\n",
      "[[-209.61     -346.63    ]\n",
      " [-311.67     -352.52    ]\n",
      " [ -79.97998    -7.309998]]\n",
      "[[-209.61006596 -346.63003349]\n",
      " [-311.67001504 -352.52002216]\n",
      " [ -79.98018389   -7.30929738]]\n",
      "[[-209.61     -346.63    ]\n",
      " [-311.67     -352.52    ]\n",
      " [ -79.97998    -7.309998]]\n",
      "[[-2.09610037e+02 -3.46630038e+02]\n",
      " [-2.33464559e+05 -2.64064319e+05]\n",
      " [-7.99801824e+01 -7.30929725e+00]]\n",
      "[[-209.61     -346.63    ]\n",
      " [-311.67     -352.52    ]\n",
      " [ -79.97998    -7.309998]]\n",
      "[[-209.6100337  -346.63002707]\n",
      " [-311.67001611 -352.52001695]\n",
      " [ -79.98018429   -7.30931742]]\n",
      "[[-209.61     -346.63    ]\n",
      " [-311.67     -352.52    ]\n",
      " [ -79.97998    -7.309998]]\n",
      "[[-209.61002777 -346.63003299]\n",
      " [-311.67000868 -352.5200158 ]\n",
      " [ -79.9801917    -7.30929727]]\n",
      "[[-209.61     -346.63    ]\n",
      " [-311.67     -352.52    ]\n",
      " [ -79.97998    -7.309998]]\n",
      "[[-209.61003419 -346.63006578]\n",
      " [-311.67001567 -352.51998073]\n",
      " [ -79.98016267   -7.30929585]]\n",
      "[[-209.61     -346.63    ]\n",
      " [-311.67     -352.52    ]\n",
      " [ -79.97998    -7.309998]]\n",
      "       1              2         2.6740e-07      3.72e-01       3.83e-01       5.15e+08    \n",
      "[[-209.61     -346.63    ]\n",
      " [-311.67     -352.52    ]\n",
      " [ -79.97998    -7.309998]]\n",
      "[[-209.61     -346.63    ]\n",
      " [-311.67     -352.52    ]\n",
      " [ -79.97998    -7.309998]]\n",
      "[[-209.60999481 -346.63000313]\n",
      " [-310.62693445 -351.34022181]\n",
      " [ -79.97997317   -7.30999479]]\n",
      "[[-209.61     -346.63    ]\n",
      " [-311.67     -352.52    ]\n",
      " [ -79.97998    -7.309998]]\n",
      "[[-8.45759166e+04 -1.39862363e+05]\n",
      " [-3.11670005e+02 -3.52520005e+02]\n",
      " [-7.99799800e+01 -7.30998791e+00]]\n",
      "[[-209.61     -346.63    ]\n",
      " [-311.67     -352.52    ]\n",
      " [ -79.97998    -7.309998]]\n",
      "[[-209.60999942 -346.62999904]\n",
      " [-311.67003506 -352.52000228]\n",
      " [-129.41885023  -11.82860431]]\n",
      "[[-209.61     -346.63    ]\n",
      " [-311.67     -352.52    ]\n",
      " [ -79.97998    -7.309998]]\n",
      "[[-209.09650227 -345.78083385]\n",
      " [-311.66999486 -352.52000544]\n",
      " [ -79.98765373   -7.31069936]]\n",
      "[[-209.61     -346.63    ]\n",
      " [-311.67     -352.52    ]\n",
      " [ -79.97998    -7.309998]]\n",
      "[[-209.60999688 -346.62999485]\n",
      " [-311.66999928 -352.51999231]\n",
      " [ -79.97996925   -7.31000434]]\n",
      "[[-209.61     -346.63    ]\n",
      " [-311.67     -352.52    ]\n",
      " [ -79.97998    -7.309998]]\n",
      "[[-209.61000593 -346.63      ]\n",
      " [-311.67000646 -352.52000046]\n",
      " [ -79.9799837    -7.30999856]]\n",
      "[[-209.61     -346.63    ]\n",
      " [-311.67     -352.52    ]\n",
      " [ -79.97998    -7.309998]]\n",
      "[[-209.61       -346.63000592]\n",
      " [-311.66999964 -352.52000631]\n",
      " [ -79.97998007   -7.31000198]]\n",
      "[[-209.61     -346.63    ]\n",
      " [-311.67     -352.52    ]\n",
      " [ -79.97998    -7.309998]]\n",
      "[[-209.61003227 -346.6300005 ]\n",
      " [-311.66999997 -352.52000638]\n",
      " [ -79.97998119   -7.30999811]]\n",
      "[[-209.61     -346.63    ]\n",
      " [-311.67     -352.52    ]\n",
      " [ -79.97998    -7.309998]]\n",
      "[[-2.09610003e+02 -3.46630005e+02]\n",
      " [-2.33464515e+05 -2.64064269e+05]\n",
      " [-7.99799797e+01 -7.30999798e+00]]\n",
      "[[-209.61     -346.63    ]\n",
      " [-311.67     -352.52    ]\n",
      " [ -79.97998    -7.309998]]\n",
      "[[-209.61       -346.62999408]\n",
      " [-311.67000104 -352.52000118]\n",
      " [ -79.97998159   -7.31001815]]\n",
      "[[-209.61     -346.63    ]\n",
      " [-311.67     -352.52    ]\n",
      " [ -79.97998    -7.309998]]\n",
      "[[-209.60999407 -346.63      ]\n",
      " [-311.66999361 -352.52000003]\n",
      " [ -79.979989     -7.309998  ]]\n",
      "[[-209.61     -346.63    ]\n",
      " [-311.67     -352.52    ]\n",
      " [ -79.97998    -7.309998]]\n",
      "[[-209.61000049 -346.63003279]\n",
      " [-311.6700006  -352.51996495]\n",
      " [ -79.97995997   -7.30999658]]\n",
      "[[-209.61     -346.63    ]\n",
      " [-311.67     -352.52    ]\n",
      " [ -79.97998    -7.309998]]\n",
      "       2              3         4.6740e-19      2.67e-07       5.31e-04       9.16e+01    \n",
      "[[-209.61     -346.63    ]\n",
      " [-311.67     -352.52    ]\n",
      " [ -79.97998    -7.309998]]\n",
      "[[-209.61     -346.63    ]\n",
      " [-311.67     -352.52    ]\n",
      " [ -79.97998    -7.309998]]\n",
      "[[-209.60999481 -346.63000313]\n",
      " [-310.62693445 -351.34022181]\n",
      " [ -79.97997317   -7.30999479]]\n",
      "[[-209.61     -346.63    ]\n",
      " [-311.67     -352.52    ]\n",
      " [ -79.97998    -7.309998]]\n",
      "[[-8.45759166e+04 -1.39862363e+05]\n",
      " [-3.11670005e+02 -3.52520005e+02]\n",
      " [-7.99799800e+01 -7.30998791e+00]]\n",
      "[[-209.61     -346.63    ]\n",
      " [-311.67     -352.52    ]\n",
      " [ -79.97998    -7.309998]]\n",
      "[[-209.60999942 -346.62999904]\n",
      " [-311.67003506 -352.52000228]\n",
      " [-129.41885023  -11.82860431]]\n",
      "[[-209.61     -346.63    ]\n",
      " [-311.67     -352.52    ]\n",
      " [ -79.97998    -7.309998]]\n",
      "[[-209.09650227 -345.78083385]\n",
      " [-311.66999486 -352.52000544]\n",
      " [ -79.98765373   -7.31069936]]\n",
      "[[-209.61     -346.63    ]\n",
      " [-311.67     -352.52    ]\n",
      " [ -79.97998    -7.309998]]\n",
      "[[-209.60999688 -346.62999485]\n",
      " [-311.66999928 -352.51999231]\n",
      " [ -79.97996925   -7.31000434]]\n",
      "[[-209.61     -346.63    ]\n",
      " [-311.67     -352.52    ]\n",
      " [ -79.97998    -7.309998]]\n",
      "[[-209.61000593 -346.63      ]\n",
      " [-311.67000646 -352.52000046]\n",
      " [ -79.9799837    -7.30999856]]\n",
      "[[-209.61     -346.63    ]\n",
      " [-311.67     -352.52    ]\n",
      " [ -79.97998    -7.309998]]\n",
      "[[-209.61       -346.63000592]\n",
      " [-311.66999964 -352.52000631]\n",
      " [ -79.97998007   -7.31000198]]\n",
      "[[-209.61     -346.63    ]\n",
      " [-311.67     -352.52    ]\n",
      " [ -79.97998    -7.309998]]\n",
      "[[-209.61003227 -346.6300005 ]\n",
      " [-311.66999997 -352.52000638]\n",
      " [ -79.97998119   -7.30999811]]\n",
      "[[-209.61     -346.63    ]\n",
      " [-311.67     -352.52    ]\n",
      " [ -79.97998    -7.309998]]\n",
      "[[-2.09610003e+02 -3.46630005e+02]\n",
      " [-2.33464515e+05 -2.64064269e+05]\n",
      " [-7.99799797e+01 -7.30999798e+00]]\n",
      "[[-209.61     -346.63    ]\n",
      " [-311.67     -352.52    ]\n",
      " [ -79.97998    -7.309998]]\n",
      "[[-209.61       -346.62999408]\n",
      " [-311.67000104 -352.52000118]\n",
      " [ -79.97998159   -7.31001815]]\n",
      "[[-209.61     -346.63    ]\n",
      " [-311.67     -352.52    ]\n",
      " [ -79.97998    -7.309998]]\n",
      "[[-209.60999407 -346.63      ]\n",
      " [-311.66999361 -352.52000003]\n",
      " [ -79.979989     -7.309998  ]]\n",
      "[[-209.61     -346.63    ]\n",
      " [-311.67     -352.52    ]\n",
      " [ -79.97998    -7.309998]]\n",
      "[[-209.61000049 -346.63003279]\n",
      " [-311.6700006  -352.51996495]\n",
      " [ -79.97995997   -7.30999658]]\n",
      "[[-209.61     -346.63    ]\n",
      " [-311.67     -352.52    ]\n",
      " [ -79.97998    -7.309998]]\n",
      "       3              4         1.0099e-26      4.67e-19       1.06e-09       1.39e+00    \n",
      "`xtol` termination condition is satisfied.\n",
      "Function evaluations 4, initial cost 3.7159e-01, final cost 1.0099e-26, first-order optimality 1.39e+00.\n"
     ]
    },
    {
     "data": {
      "text/plain": [
       "[<matplotlib.lines.Line2D at 0x7f6fab07c880>]"
      ]
     },
     "execution_count": 275,
     "metadata": {},
     "output_type": "execute_result"
    },
    {
     "data": {
      "image/png": "[encoded data removed]",
      "text/plain": [
       "<Figure size 432x288 with 1 Axes>"
      ]
     },
     "metadata": {
      "needs_background": "light"
     },
     "output_type": "display_data"
    }
   ],
   "source": [
    "A = bundle_adjustment_sparsity(n_cameras, n_points, camera_indices, point_indices)\n",
    "import time\n",
    "from scipy.optimize import least_squares\n",
    "\n",
    "\n",
    "t0 = time.time()\n",
    "res = least_squares(fun, x0, jac_sparsity=A, verbose=2, x_scale='jac', ftol=1e-8, xtol=1e-8, gtol=1e-8, method='trf',\n",
    "                    args=(n_cameras, n_points, camera_indices, point_indices, points_2d))\n",
    "t1 = time.time()\n",
    "\n",
    "\n",
    "plt.plot(res.fun)"
   ]
  },
  {
   "cell_type": "code",
   "execution_count": 276,
   "metadata": {},
   "outputs": [
    {
     "data": {
      "text/plain": [
       "[<matplotlib.lines.Line2D at 0x7f6f852269d0>]"
      ]
     },
     "execution_count": 276,
     "metadata": {},
     "output_type": "execute_result"
    },
    {
     "data": {
      "image/png": "[encoded data removed]",
      "text/plain": [
       "<Figure size 432x288 with 1 Axes>"
      ]
     },
     "metadata": {
      "needs_background": "light"
     },
     "output_type": "display_data"
    }
   ],
   "source": [
    "plt.plot(res.fun)"
   ]
  },
  {
   "cell_type": "markdown",
   "metadata": {},
   "source": [
    "## 2. Initializing R,t and 3D points for SfM given 2 images (`4 mark`)\n",
    "\n",
    "Using OpenCV functions, mention how you would initialize R,t (poses) and 3D points for SfM given 2 images and K matrix. You don't need to implement it, just mention function names with input/output arguments clearly and briefly explain what they do (You don't need to give detailed answers)."
   ]
  },
  {
   "cell_type": "markdown",
   "metadata": {},
   "source": [
    "**Ans 2:**\n",
    "\n",
    "Given 2 images and K (intrinsic) matrix.\n",
    "\n",
    "1. First, we will produce the correspondences between two given images using \"SIFT\" feature descriptor, which will take image as input and provide us correspondences.  \n",
    "    `sift = cv2.SIFT()` \\\n",
    "    `sift.detectAndCompute(img,None)`\n",
    "\n",
    "2. Find the essential matrix using \"cv2.findEssentialMat() function\". We will need left and right image SIFT featured obtained above (pts0) (pts1), focal length from K matrix (focal_length), camera center from K matrix (points_2d) \\\n",
    "`E = cv2.findEssentialMat(pts0, pts1, focal_length, points_2d)` \n",
    "\n",
    "3. Decompose Essential Matrix E into R,t using \"cv2.recoverPose()\" function: \\\n",
    "    `R_t = cv2.recoverPose(E, pts0, pts1, K)`\n",
    "    Localization is intialized.\n",
    "\n",
    "4. Solution Selection and Triangulation: \\\n",
    "    Perform direct triangulatation using the four solutions, and check if there is one solution with most points seen with parallax, in front of both cameras and with low reprojection error. Choose it as the solution and intialization for the localization system. 3D point is intializes using traingulation. \n",
    "\n",
    "4. Find Projection Matrix P = K[R |t] . \\\n",
    "   Use X = $P^{-1}$x to obtain X in 3d. \n"
   ]
  },
  {
   "cell_type": "code",
   "execution_count": null,
   "metadata": {},
   "outputs": [],
   "source": []
  }
 ],
 "metadata": {
  "kernelspec": {
   "display_name": "Python 3 (ipykernel)",
   "language": "python",
   "name": "python3"
  },
  "language_info": {
   "codemirror_mode": {
    "name": "ipython",
    "version": 3
   },
   "file_extension": ".py",
   "mimetype": "text/x-python",
   "name": "python",
   "nbconvert_exporter": "python",
   "pygments_lexer": "ipython3",
   "version": "3.8.10"
  }
 },
 "nbformat": 4,
 "nbformat_minor": 1
}
